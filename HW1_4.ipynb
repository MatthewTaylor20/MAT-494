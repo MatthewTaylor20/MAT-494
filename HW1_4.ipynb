{
  "nbformat": 4,
  "nbformat_minor": 0,
  "metadata": {
    "colab": {
      "provenance": [],
      "authorship_tag": "ABX9TyM9uiSoRE7RBFV2E8DZlsNZ",
      "include_colab_link": true
    },
    "kernelspec": {
      "name": "python3",
      "display_name": "Python 3"
    },
    "language_info": {
      "name": "python"
    }
  },
  "cells": [
    {
      "cell_type": "markdown",
      "metadata": {
        "id": "view-in-github",
        "colab_type": "text"
      },
      "source": [
        "<a href=\"https://colab.research.google.com/github/MatthewTaylor20/MAT-494/blob/main/HW1_4.ipynb\" target=\"_parent\"><img src=\"https://colab.research.google.com/assets/colab-badge.svg\" alt=\"Open In Colab\"/></a>"
      ]
    },
    {
      "cell_type": "code",
      "execution_count": 34,
      "metadata": {
        "id": "Oq8AuRqKdYrT",
        "colab": {
          "base_uri": "https://localhost:8080/",
          "height": 409
        },
        "outputId": "8b8dc141-d0ed-46bc-be10-3ef30f87dd4f"
      },
      "outputs": [
        {
          "output_type": "execute_result",
          "data": {
            "text/plain": [
              "<matplotlib.axes._subplots.AxesSubplot at 0x7f0eb19d7dd0>"
            ]
          },
          "metadata": {},
          "execution_count": 34
        },
        {
          "output_type": "display_data",
          "data": {
            "text/plain": [
              "<Figure size 432x432 with 1 Axes>"
            ],
            "image/png": "[encoded data removed]"
          },
          "metadata": {
            "needs_background": "light"
          }
        }
      ],
      "source": [
        "import numpy as np\n",
        "import pandas as pd\n",
        "import seaborn as sb\n",
        "import matplotlib.pyplot as plt\n",
        "import plotly.express as px\n",
        "\n",
        "\n",
        "\n",
        "def PCA(X , num_components):\n",
        "  X_meaned = X - np.mean(X , axis = 0)\n",
        "\n",
        "  #Find covarience matrix\n",
        "  cov_mat = np.cov(X_meaned , rowvar = False)\n",
        "  #Find eigenvalues and eigenvectors of the covarience matrix\n",
        "  eigen_values , eigen_vectors = np.linalg.eigh(cov_mat)\n",
        "\n",
        "  #sort the eigenvalues and eigenvectors\n",
        "  sorted_index = np.argsort(eigen_values)[::-1]\n",
        "  sorted_eigenvalue = eigen_values[sorted_index]\n",
        "  sorted_eigenvectors = eigen_vectors[:,sorted_index]\n",
        "\n",
        "  # select the first n eigenvectors \n",
        "  eigenvector_subset = sorted_eigenvectors[:,0:num_components]\n",
        "\n",
        "  #Transform the data \n",
        "  X_reduced = np.dot(eigenvector_subset.transpose(),X_meaned.transpose()).transpose()\n",
        "\n",
        "  return X_reduced\n",
        "\n",
        "\n",
        "\n",
        "\n",
        "data = px.data.iris()\n",
        "#prepare the data\n",
        "x = data.iloc[:,0:4]\n",
        "#prepare the target\n",
        "target = data.iloc[:,4] \n",
        "#Applying it to PCA function\n",
        "mat_reduced = PCA(x , 2)\n",
        "#Creating a Pandas DataFrame of reduced Dataset\n",
        "principal_df = pd.DataFrame(mat_reduced , columns = ['PC1','PC2'])\n",
        " \n",
        "#Concat it with target variable to create a complete Dataset\n",
        "principal_df = pd.concat([principal_df , pd.DataFrame(target)] , axis = 1)\n",
        "plt.figure(figsize = (6,6))\n",
        "sb.scatterplot(data = principal_df , x = 'PC1',y = 'PC2' , s = 60 , palette= 'icefire')"
      ]
    }
  ]
}