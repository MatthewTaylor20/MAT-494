{
  "nbformat": 4,
  "nbformat_minor": 0,
  "metadata": {
    "colab": {
      "provenance": [],
      "authorship_tag": "ABX9TyPAsufNBUlDhScgiUyx3EwN",
      "include_colab_link": true
    },
    "kernelspec": {
      "name": "python3",
      "display_name": "Python 3"
    },
    "language_info": {
      "name": "python"
    }
  },
  "cells": [
    {
      "cell_type": "markdown",
      "metadata": {
        "id": "view-in-github",
        "colab_type": "text"
      },
      "source": [
        "<a href=\"https://colab.research.google.com/github/MatthewTaylor20/MAT-494/blob/main/HW4_1.ipynb\" target=\"_parent\"><img src=\"https://colab.research.google.com/assets/colab-badge.svg\" alt=\"Open In Colab\"/></a>"
      ]
    },
    {
      "cell_type": "code",
      "execution_count": 1,
      "metadata": {
        "colab": {
          "base_uri": "https://localhost:8080/"
        },
        "id": "OVf5rS_tKxrm",
        "outputId": "20905242-917b-4fae-e6b3-770bd7a89f9a"
      },
      "outputs": [
        {
          "output_type": "stream",
          "name": "stdout",
          "text": [
            "[[-2  1  1]\n",
            " [ 1 -2  1]\n",
            " [ 1  1 -2]]\n"
          ]
        }
      ],
      "source": [
        "import networkx as nx\n",
        "import scipy.sparse\n",
        "\n",
        "G = nx.DiGraph()\n",
        "G.add_nodes_from([1, 2, 3])\n",
        "G.add_weighted_edges_from([(1, 2, 1), (1, 3, 1), (2, 1, 1), (2, 3, 1), (3, 1, 1), (3, 2, 1)])\n",
        "\n",
        "nodelist = list(G)\n",
        "A = nx.to_scipy_sparse_matrix(G, nodelist=nodelist, weight=\"weight\", format=\"csr\")\n",
        "n, m = A.shape\n",
        "diags = A.sum(axis=0)  # 1 = outdegree, 0 = indegree\n",
        "D = scipy.sparse.spdiags(diags.flatten(), [0], m, n, format=\"csr\")\n",
        "\n",
        "print((A - D).todense())"
      ]
    }
  ]
}