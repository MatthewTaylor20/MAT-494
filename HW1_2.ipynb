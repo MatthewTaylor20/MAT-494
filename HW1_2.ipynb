{
  "nbformat": 4,
  "nbformat_minor": 0,
  "metadata": {
    "colab": {
      "name": "HW1.2.ipynb",
      "provenance": []
    },
    "kernelspec": {
      "name": "python3",
      "display_name": "Python 3"
    },
    "language_info": {
      "name": "python"
    }
  },
  "cells": [
    {
      "cell_type": "code",
      "execution_count": 2,
      "metadata": {
        "id": "Qid5s0Wa-Cu3"
      },
      "outputs": [],
      "source": [
        "import numpy as np\n",
        "from numpy.linalg import eig"
      ]
    },
    {
      "cell_type": "code",
      "source": [
        "def gram_schmidt(A):\n",
        "    # Orthogonalize a set of vectors stored as the columns of matrix A.\n",
        "\n",
        "    # Get the number of vectors.\n",
        "    n = A.shape[1]\n",
        "    for j in range(n):\n",
        "        # To orthogonalize the vector in column j with respect to the\n",
        "        # previous vectors, subtract from it its projection onto\n",
        "        # each of the previous vectors.\n",
        "        for k in range(j):\n",
        "            A[:, j] -= np.dot(A[:, k], A[:, j]) * A[:, k]\n",
        "        A[:, j] = A[:, j] / np.linalg.norm(A[:, j])\n",
        "    return A\n",
        "\n",
        "if __name__ == '__main__':\n",
        "    A = np.array([[1.0, 1.0, 0.0], [1.0, 3.0, 1.0], [2.0, -1.0, 1.0]])\n",
        "    B = np.array([[3.0, 1.0], [2.0, 2.0]])\n",
        "    print('A: ',gram_schmidt(A))\n",
        "    print('B: ',gram_schmidt(B))"
      ],
      "metadata": {
        "colab": {
          "base_uri": "https://localhost:8080/"
        },
        "id": "3j90kajaXxnf",
        "outputId": "9b50d2fb-8bea-47b0-f8c4-075ed7c3ebb9"
      },
      "execution_count": 25,
      "outputs": [
        {
          "output_type": "stream",
          "name": "stdout",
          "text": [
            "A:  [[ 0.40824829  0.20739034 -0.88900089]\n",
            " [ 0.40824829  0.82956136  0.38100038]\n",
            " [ 0.81649658 -0.51847585  0.25400025]]\n",
            "B:  [[ 0.83205029 -0.5547002 ]\n",
            " [ 0.5547002   0.83205029]]\n"
          ]
        }
      ]
    },
    {
      "cell_type": "code",
      "source": [
        "a = np.array([[1, 3], \n",
        "              [4, 2]])\n",
        "w,v=eig(a)\n",
        "print('E-value:', w)\n",
        "print('E-vector:', v)"
      ],
      "metadata": {
        "colab": {
          "base_uri": "https://localhost:8080/"
        },
        "id": "c50HVnymOuMd",
        "outputId": "5f9fe091-7cb4-4510-ef55-1635dfe787c2"
      },
      "execution_count": 5,
      "outputs": [
        {
          "output_type": "stream",
          "name": "stdout",
          "text": [
            "E-value: [-2.  5.]\n",
            "E-vector: [[-0.70710678 -0.6       ]\n",
            " [ 0.70710678 -0.8       ]]\n"
          ]
        }
      ]
    }
  ]
}